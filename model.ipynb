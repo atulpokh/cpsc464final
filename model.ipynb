{
 "cells": [
  {
   "cell_type": "code",
   "execution_count": 3,
   "metadata": {},
   "outputs": [],
   "source": [
    "import pandas as pd\n",
    "import numpy as np\n",
    "import random"
   ]
  },
  {
   "cell_type": "code",
   "execution_count": 4,
   "metadata": {},
   "outputs": [],
   "source": [
    "def preference_creation(family_size: int):\n",
    "    if family_size == 1:\n",
    "        preferences = [2,3]\n",
    "    elif family_size == 2:\n",
    "        preferences = [1,3,4]\n",
    "    elif family_size == 3:\n",
    "        preferences = [1,2,4]\n",
    "    elif family_size == 4:\n",
    "        preferences = [2,3,5]\n",
    "    elif family_size == 5:\n",
    "        preferences = [4,6]\n",
    "    else:\n",
    "        preferences = [5]\n",
    "    \n",
    "    output = [min(family_size, 6)] + random.sample(preferences, len(preferences))\n",
    "    return output\n",
    "\n",
    "def housing_vacancy(stock):\n",
    "    \n",
    "    # Probability weights for each housing type (reverse proportion to the key size)\n",
    "    weights = [1 / key for key in stock]\n",
    "\n",
    "    # Distribute 80 units randomly across types with weighted choice\n",
    "    units_to_add = 80\n",
    "    while units_to_add > 0:\n",
    "        random_type = random.choices(list(stock.keys()), weights=weights)[0]\n",
    "        add_count = random.randint(1, units_to_add)  # Random count to add\n",
    "\n",
    "        # Increment the randomly chosen type by the add_count\n",
    "        stock[random_type] += add_count\n",
    "\n",
    "        units_to_add -= add_count  # Reduce the remaining units to add\n",
    "\n",
    "    return stock\n"
   ]
  },
  {
   "cell_type": "code",
   "execution_count": 5,
   "metadata": {},
   "outputs": [
    {
     "name": "stdout",
     "output_type": "stream",
     "text": [
      "Total Number of Applicants: 3473\n"
     ]
    }
   ],
   "source": [
    "# import file\n",
    "df = pd.read_csv(\"Eligible_Applicants.csv\")\n",
    "\n",
    "# filtering eligible applicants \n",
    "df = df[df['familysize'] != 0] # removing applicants with family size = 0\n",
    "df = df[df['income'] != 0] # removing applicants with income = 0\n",
    "df = df[df['race'] != 0]\n",
    "df = df.drop(df.columns[0:1], axis = 1)\n",
    "df = df[~(df['income'] > 14160 + (7710 * df['familysize']))]\n",
    "df['waittime'] = 0\n",
    "# df = df.loc[df.index.repeat(20)].reset_index(drop=True)\n",
    "\n",
    "\n",
    "preferences = []\n",
    "for index, row in df.iterrows():\n",
    "    preferences.append(preference_creation(int(row['familysize'])))\n",
    "\n",
    "df['preferences'] = preferences \n",
    "\n",
    "# saving original\n",
    "safe = df\n",
    "print(f\"Total Number of Applicants: {len(df)}\")"
   ]
  },
  {
   "cell_type": "code",
   "execution_count": 6,
   "metadata": {},
   "outputs": [
    {
     "name": "stdout",
     "output_type": "stream",
     "text": [
      "Total Housing Stock: 20513\n",
      "Total Housing Units Available: 817\n"
     ]
    }
   ],
   "source": [
    "# housing unit stock\n",
    "housing_units = {\n",
    "    1: 9820,\n",
    "    2: 4349,\n",
    "    3: 3107,\n",
    "    4: 1788,\n",
    "    5: 880,\n",
    "    6: 569\n",
    "}\n",
    "print(f\"Total Housing Stock: {sum(housing_units.values())}\")\n",
    "# 1 in every 25 housing units available in the initial period\n",
    "for key in housing_units.keys():\n",
    "    housing_units[key] = housing_units[key] // 25 \n",
    "\n",
    "print(f\"Total Housing Units Available: {sum(housing_units.values())}\")"
   ]
  },
  {
   "cell_type": "code",
   "execution_count": 40,
   "metadata": {},
   "outputs": [
    {
     "data": {
      "text/plain": [
       "0   NaN\n",
       "1   NaN\n",
       "2   NaN\n",
       "3   NaN\n",
       "4   NaN\n",
       "5   NaN\n",
       "6   NaN\n",
       "7   NaN\n",
       "Name: w_income, dtype: float64"
      ]
     },
     "execution_count": 40,
     "metadata": {},
     "output_type": "execute_result"
    }
   ],
   "source": [
    "df_output = pd.read_csv(\"results/Output Schema - outputs.csv\")\n",
    "\n",
    "df_output.iloc[0:8,:]\n",
    "count = 2\n",
    "experiment_no = 0\n",
    "\n",
    "\n",
    "df_output.iloc[0:8, count]"
   ]
  },
  {
   "cell_type": "code",
   "execution_count": 53,
   "metadata": {},
   "outputs": [
    {
     "ename": "IndexError",
     "evalue": "iloc cannot enlarge its target object",
     "output_type": "error",
     "traceback": [
      "\u001b[0;31m---------------------------------------------------------------------------\u001b[0m",
      "\u001b[0;31mIndexError\u001b[0m                                Traceback (most recent call last)",
      "\u001b[1;32m/Users/LamNicole/Desktop/Yale/5-F23/cpsc464final/model.ipynb Cell 6\u001b[0m line \u001b[0;36m8\n\u001b[1;32m     <a href='vscode-notebook-cell:/Users/LamNicole/Desktop/Yale/5-F23/cpsc464final/model.ipynb#W6sZmlsZQ%3D%3D?line=79'>80</a>\u001b[0m         df_output\u001b[39m.\u001b[39miloc[(experiment_no\u001b[39m*\u001b[39m\u001b[39m8\u001b[39m):(experiment_no\u001b[39m*\u001b[39m\u001b[39m8\u001b[39m)\u001b[39m+\u001b[39m\u001b[39m8\u001b[39m, count \u001b[39m+\u001b[39m \u001b[39m5\u001b[39m] \u001b[39m=\u001b[39m result[\u001b[39m'\u001b[39m\u001b[39mPercentage of Top Choice\u001b[39m\u001b[39m'\u001b[39m]\n\u001b[1;32m     <a href='vscode-notebook-cell:/Users/LamNicole/Desktop/Yale/5-F23/cpsc464final/model.ipynb#W6sZmlsZQ%3D%3D?line=80'>81</a>\u001b[0m         df_output\u001b[39m.\u001b[39miloc[(experiment_no\u001b[39m*\u001b[39m\u001b[39m8\u001b[39m):(experiment_no\u001b[39m*\u001b[39m\u001b[39m8\u001b[39m)\u001b[39m+\u001b[39m\u001b[39m8\u001b[39m, count \u001b[39m+\u001b[39m \u001b[39m10\u001b[39m] \u001b[39m=\u001b[39m [wait_time_fairness] \u001b[39m*\u001b[39m \u001b[39m8\u001b[39m\n\u001b[0;32m---> <a href='vscode-notebook-cell:/Users/LamNicole/Desktop/Yale/5-F23/cpsc464final/model.ipynb#W6sZmlsZQ%3D%3D?line=81'>82</a>\u001b[0m         df_output\u001b[39m.\u001b[39miloc[(experiment_no\u001b[39m*\u001b[39m\u001b[39m8\u001b[39m):(experiment_no\u001b[39m*\u001b[39m\u001b[39m8\u001b[39m)\u001b[39m+\u001b[39m\u001b[39m8\u001b[39m, count \u001b[39m+\u001b[39m \u001b[39m15\u001b[39m] \u001b[39m=\u001b[39m [top_choice_fairness] \u001b[39m*\u001b[39m \u001b[39m8\u001b[39m\n\u001b[1;32m     <a href='vscode-notebook-cell:/Users/LamNicole/Desktop/Yale/5-F23/cpsc464final/model.ipynb#W6sZmlsZQ%3D%3D?line=83'>84</a>\u001b[0m         count \u001b[39m+\u001b[39m\u001b[39m=\u001b[39m \u001b[39m1\u001b[39m\n\u001b[1;32m     <a href='vscode-notebook-cell:/Users/LamNicole/Desktop/Yale/5-F23/cpsc464final/model.ipynb#W6sZmlsZQ%3D%3D?line=85'>86</a>\u001b[0m \u001b[39mprint\u001b[39m(df_output)\n",
      "File \u001b[0;32m~/opt/anaconda3/envs/venv/lib/python3.10/site-packages/pandas/core/indexing.py:815\u001b[0m, in \u001b[0;36m_LocationIndexer.__setitem__\u001b[0;34m(self, key, value)\u001b[0m\n\u001b[1;32m    813\u001b[0m     key \u001b[39m=\u001b[39m com\u001b[39m.\u001b[39mapply_if_callable(key, \u001b[39mself\u001b[39m\u001b[39m.\u001b[39mobj)\n\u001b[1;32m    814\u001b[0m indexer \u001b[39m=\u001b[39m \u001b[39mself\u001b[39m\u001b[39m.\u001b[39m_get_setitem_indexer(key)\n\u001b[0;32m--> 815\u001b[0m \u001b[39mself\u001b[39;49m\u001b[39m.\u001b[39;49m_has_valid_setitem_indexer(key)\n\u001b[1;32m    817\u001b[0m iloc \u001b[39m=\u001b[39m \u001b[39mself\u001b[39m \u001b[39mif\u001b[39;00m \u001b[39mself\u001b[39m\u001b[39m.\u001b[39mname \u001b[39m==\u001b[39m \u001b[39m\"\u001b[39m\u001b[39miloc\u001b[39m\u001b[39m\"\u001b[39m \u001b[39melse\u001b[39;00m \u001b[39mself\u001b[39m\u001b[39m.\u001b[39mobj\u001b[39m.\u001b[39miloc\n\u001b[1;32m    818\u001b[0m iloc\u001b[39m.\u001b[39m_setitem_with_indexer(indexer, value, \u001b[39mself\u001b[39m\u001b[39m.\u001b[39mname)\n",
      "File \u001b[0;32m~/opt/anaconda3/envs/venv/lib/python3.10/site-packages/pandas/core/indexing.py:1518\u001b[0m, in \u001b[0;36m_iLocIndexer._has_valid_setitem_indexer\u001b[0;34m(self, indexer)\u001b[0m\n\u001b[1;32m   1516\u001b[0m \u001b[39melif\u001b[39;00m is_integer(i):\n\u001b[1;32m   1517\u001b[0m     \u001b[39mif\u001b[39;00m i \u001b[39m>\u001b[39m\u001b[39m=\u001b[39m \u001b[39mlen\u001b[39m(ax):\n\u001b[0;32m-> 1518\u001b[0m         \u001b[39mraise\u001b[39;00m \u001b[39mIndexError\u001b[39;00m(\u001b[39m\"\u001b[39m\u001b[39miloc cannot enlarge its target object\u001b[39m\u001b[39m\"\u001b[39m)\n\u001b[1;32m   1519\u001b[0m \u001b[39melif\u001b[39;00m \u001b[39misinstance\u001b[39m(i, \u001b[39mdict\u001b[39m):\n\u001b[1;32m   1520\u001b[0m     \u001b[39mraise\u001b[39;00m \u001b[39mIndexError\u001b[39;00m(\u001b[39m\"\u001b[39m\u001b[39miloc cannot enlarge its target object\u001b[39m\u001b[39m\"\u001b[39m)\n",
      "\u001b[0;31mIndexError\u001b[0m: iloc cannot enlarge its target object"
     ]
    }
   ],
   "source": [
    "priorities = ['income', 'numchildren', 'numelderly', 'veteran', 'disability']\n",
    "count = 2\n",
    "experiments = 2\n",
    "for experiment_no in range(experiments):\n",
    "    for priority in priorities:\n",
    "        # reset dataframe to infinite wait times and ranking = 0\n",
    "        df = safe\n",
    "\n",
    "        # sort dataframe by priority system and save to waitlist\n",
    "        if priority == 'income':\n",
    "            waitlist = df.sort_values(by=priority, ascending=True)\n",
    "        else:\n",
    "            waitlist = df.sort_values(by=priority, ascending=False)\n",
    "\n",
    "        # maximum 5 years, allocating 12, end when waitlist is empty\n",
    "        period = 12*5 \n",
    "        for _ in range(int(period)):\n",
    "            # break when waitlist is empty\n",
    "            if waitlist.shape[0] == 0:\n",
    "                break\n",
    "            # add x number of housing units per cycle\n",
    "            housing_units = housing_vacancy(housing_units)\n",
    "\n",
    "            # for each applicant in the wait list\n",
    "            for _, applicant in waitlist.iterrows():\n",
    "\n",
    "                # identify the serial number\n",
    "                serial_no = applicant['serialno']\n",
    "\n",
    "                # for each choice in the preferences list\n",
    "                for rank in applicant['preferences']:\n",
    "\n",
    "                    # if that housing size/type is available\n",
    "                    if housing_units[rank] > 0:\n",
    "\n",
    "                        # set that housing choice to be their \"ranking\" (the preference they are matched with)\n",
    "                        df.loc[df['serialno'] == serial_no, 'ranking'] = applicant['preferences'].index(rank) + 1\n",
    "\n",
    "                        # reduce that available housing type by 1\n",
    "                        housing_units[rank] -= 1\n",
    "\n",
    "                        # remove them from the waitlist\n",
    "                        waitlist = waitlist[waitlist['serialno'] != serial_no]\n",
    "                        break\n",
    "            \n",
    "            # for all umatched, add 1 to waittime\n",
    "            df.loc[df['ranking'] == 0, 'waittime'] += 1\n",
    "        \n",
    "        # Group by 'Race' and calculate the percentage of top choice within each group\n",
    "        result = df.groupby('race').agg(\n",
    "            Percentage=('ranking', lambda x: (x == 1).sum() / len(x) * 100),\n",
    "            AverageWaitTime=('waittime', 'mean')\n",
    "        ).reset_index()\n",
    "        # Round 'Percentage' to 2 decimal points and format as percentage\n",
    "        result['Percentage'] = result['Percentage'].map('{:.2f}%'.format)\n",
    "        result.columns = ['Race', 'Percentage of Top Choice', 'Average Wait Time']\n",
    "\n",
    "        top_choice = result['Percentage of Top Choice']\n",
    "        avg_wait_time = result['Average Wait Time']\n",
    "\n",
    "        n = len(top_choice)\n",
    "        sum_tp = 0\n",
    "        sum_wt = 0\n",
    "\n",
    "        for i in range(8):\n",
    "            for j in range(8):\n",
    "                if i != j and float(top_choice[j][:-1]) != 0 and float(avg_wait_time[j]) != 0:\n",
    "                    ratio_tp = float(top_choice[i][:-1])/float(top_choice[j][:-1])\n",
    "                    ratio_wt = float(avg_wait_time[i])/float(avg_wait_time[j])\n",
    "                    sum_tp += ratio_tp\n",
    "                    sum_wt += ratio_wt\n",
    "                    \n",
    "        sum_tp = sum_tp / (n**2 - n)\n",
    "        sum_wt = sum_wt / (n**2 - n)\n",
    "\n",
    "        top_choice_fairness = abs(1 - sum_tp)\n",
    "        wait_time_fairness = abs(1 - sum_wt)\n",
    "\n",
    "        df_output.iloc[(experiment_no*8):(experiment_no*8)+8, count] = result['Average Wait Time']\n",
    "        df_output.iloc[(experiment_no*8):(experiment_no*8)+8, count + 5] = result['Percentage of Top Choice']\n",
    "        df_output.iloc[(experiment_no*8):(experiment_no*8)+8, count + 10] = [wait_time_fairness] * 8\n",
    "        df_output.iloc[(experiment_no*8):(experiment_no*8)+8, count + 15] = [top_choice_fairness] * 8\n",
    "\n",
    "        count += 1\n",
    "\n",
    "print(df_output)  "
   ]
  },
  {
   "cell_type": "code",
   "execution_count": 51,
   "metadata": {},
   "outputs": [
    {
     "data": {
      "text/plain": [
       "<Axes: title={'center': 'w_disability'}, xlabel='[race_id]'>"
      ]
     },
     "execution_count": 51,
     "metadata": {},
     "output_type": "execute_result"
    },
    {
     "data": {
      "image/png": "[encoded data removed]",
      "text/plain": [
       "<Figure size 640x480 with 1 Axes>"
      ]
     },
     "metadata": {},
     "output_type": "display_data"
    }
   ],
   "source": [
    "df_output.boxplot(column=['w_disability'], by =['race_id'])"
   ]
  },
  {
   "cell_type": "markdown",
   "metadata": {},
   "source": []
  },
  {
   "cell_type": "code",
   "execution_count": 10,
   "metadata": {},
   "outputs": [],
   "source": [
    "# ONE TRIAL ONLY\n",
    "priorities = ['income', 'numchildren', 'numelderly', 'veteran', 'disability']\n",
    "\n",
    "for priority in priorities:\n",
    "    # reset dataframe to infinite wait times and ranking = 0\n",
    "    df = safe\n",
    "\n",
    "    # sort dataframe by priority system and save to waitlist\n",
    "    if priority == 'income':\n",
    "        waitlist = df.sort_values(by=priority, ascending=True)\n",
    "    else:\n",
    "        waitlist = df.sort_values(by=priority, ascending=False)\n",
    "\n",
    "    # maximum 5 years, allocating 12, end when waitlist is empty\n",
    "    period = 12*5 \n",
    "    for _ in range(int(period)):\n",
    "        # break when waitlist is empty\n",
    "        if waitlist.shape[0] == 0:\n",
    "            break\n",
    "        # add x number of housing units per cycle\n",
    "        housing_units = housing_vacancy(housing_units)\n",
    "\n",
    "        # for each applicant in the wait list\n",
    "        for _, applicant in waitlist.iterrows():\n",
    "\n",
    "            # identify the serial number\n",
    "            serial_no = applicant['serialno']\n",
    "\n",
    "            # for each choice in the preferences list\n",
    "            for rank in applicant['preferences']:\n",
    "\n",
    "                # if that housing size/type is available\n",
    "                if housing_units[rank] > 0:\n",
    "\n",
    "                    # set that housing choice to be their \"ranking\" (the preference they are matched with)\n",
    "                    df.loc[df['serialno'] == serial_no, 'ranking'] = applicant['preferences'].index(rank) + 1\n",
    "\n",
    "                    # reduce that available housing type by 1\n",
    "                    housing_units[rank] -= 1\n",
    "\n",
    "                    # remove them from the waitlist\n",
    "                    waitlist = waitlist[waitlist['serialno'] != serial_no]\n",
    "                    break\n",
    "        \n",
    "        # for all umatched, add 1 to waittime\n",
    "        df.loc[df['ranking'] == 0, 'waittime'] += 1\n",
    "    \n",
    "    # save df\n",
    "    filename = f'results/dfs/trial_3/housing_allocation_{priority}.csv'\n",
    "    df.to_csv(filename, index = False)\n",
    "\n",
    "    # Group by 'Race' and calculate the percentage of top choice within each group\n",
    "    result = df.groupby('race').agg(\n",
    "        Percentage=('ranking', lambda x: (x == 1).sum() / len(x) * 100),\n",
    "        AverageWaitTime=('waittime', 'mean')\n",
    "    ).reset_index()\n",
    "\n",
    "    # Round 'Percentage' to 2 decimal points and format as percentage\n",
    "    result['Percentage'] = result['Percentage'].map('{:.2f}%'.format)\n",
    "\n",
    "    result.columns = ['Race', 'Percentage of Top Choice', 'Average Wait Time']\n",
    "\n",
    "    top_choice = result['Percentage of Top Choice']\n",
    "    avg_wait_time = result['Average Wait Time']\n",
    "\n",
    "    n = len(top_choice)\n",
    "    sum_tp = 0\n",
    "    sum_wt = 0\n",
    "\n",
    "    for i in range(8):\n",
    "        for j in range(8):\n",
    "            if i != j and float(top_choice[j][:-1]) != 0 and float(avg_wait_time[j]) != 0:\n",
    "                ratio_tp = float(top_choice[i][:-1])/float(top_choice[j][:-1])\n",
    "                ratio_wt = float(avg_wait_time[i])/float(avg_wait_time[j])\n",
    "                sum_tp += ratio_tp\n",
    "                sum_wt += ratio_wt\n",
    "                \n",
    "    sum_tp = sum_tp / (n**2 - n)\n",
    "    sum_wt = sum_wt / (n**2 - n)\n",
    "\n",
    "    top_choice_fairness = abs(1 - sum_tp)\n",
    "    wait_time_fairness = abs(1 - sum_wt)\n",
    "\n",
    "    print(f\"Top Choice Fairness Metric For {priority}: {top_choice_fairness}\")\n",
    "    print(f\"Waittime Fairness Metric For {priority}: {wait_time_fairness}\")\n"
   ]
  },
  {
   "cell_type": "code",
   "execution_count": 26,
   "metadata": {},
   "outputs": [
    {
     "name": "stdout",
     "output_type": "stream",
     "text": [
      "Top Choice Fairness Metric For income: 0.20963794645499423\n",
      "Waittime Fairness Metric For income: 0.003566572518143629\n",
      "Top Choice Fairness Metric For numchildren: 0.059565193711331954\n",
      "Waittime Fairness Metric For numchildren: 0.06652244842519761\n",
      "Top Choice Fairness Metric For numelderly: 0.02121001349887197\n",
      "Waittime Fairness Metric For numelderly: 0.06652244842519761\n",
      "Top Choice Fairness Metric For veteran: 0.03399363090358665\n",
      "Waittime Fairness Metric For veteran: 0.06652244842519761\n",
      "Top Choice Fairness Metric For disability: 0.08168197229555241\n",
      "Waittime Fairness Metric For disability: 0.06652244842519761\n"
     ]
    }
   ],
   "source": [
    "priorities = ['income', 'numchildren', 'numelderly', 'veteran', 'disability']\n",
    "\n",
    "for priority in priorities:\n",
    "    result = pd.read_csv(f'results/stats/trial_3/housing_statistics_{priority}.csv')\n",
    "\n",
    "    top_choice = result['Percentage of Top Choice']\n",
    "    avg_wait_time = result['Average Wait Time']\n",
    "\n",
    "    n = len(top_choice)\n",
    "    sum_tp = 0\n",
    "    sum_wt = 0\n",
    "\n",
    "    for i in range(8):\n",
    "        for j in range(8):\n",
    "            if i != j and float(top_choice[j][:-1]) != 0 and float(avg_wait_time[j]) != 0:\n",
    "                ratio_tp = float(top_choice[i][:-1])/float(top_choice[j][:-1])\n",
    "                ratio_wt = float(avg_wait_time[i])/float(avg_wait_time[j])\n",
    "                sum_tp += ratio_tp\n",
    "                sum_wt += ratio_wt\n",
    "                \n",
    "    sum_tp = sum_tp / (n**2 - n)\n",
    "    sum_wt = sum_wt / (n**2 - n)\n",
    "\n",
    "    top_choice_fairness = abs(1 - sum_tp)\n",
    "    wait_time_fairness = abs(1 - sum_wt)\n",
    "\n",
    "    print(f\"Top Choice Fairness Metric For {priority}: {top_choice_fairness}\")\n",
    "    print(f\"Waittime Fairness Metric For {priority}: {wait_time_fairness}\")\n"
   ]
  }
 ],
 "metadata": {
  "kernelspec": {
   "display_name": "Python 3",
   "language": "python",
   "name": "python3"
  },
  "language_info": {
   "codemirror_mode": {
    "name": "ipython",
    "version": 3
   },
   "file_extension": ".py",
   "mimetype": "text/x-python",
   "name": "python",
   "nbconvert_exporter": "python",
   "pygments_lexer": "ipython3",
   "version": "3.10.9"
  }
 },
 "nbformat": 4,
 "nbformat_minor": 2
}
