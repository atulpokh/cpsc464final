{
 "cells": [
  {
   "cell_type": "code",
   "execution_count": 1,
   "metadata": {},
   "outputs": [],
   "source": [
    "import pandas as pd\n",
    "import numpy as np\n",
    "import random"
   ]
  },
  {
   "cell_type": "code",
   "execution_count": 2,
   "metadata": {},
   "outputs": [],
   "source": [
    "# applicant_arrival = 0.03\n",
    "# applicant_departure = 0.03\n",
    "vacancy_rate = 0.05"
   ]
  },
  {
   "cell_type": "code",
   "execution_count": 3,
   "metadata": {},
   "outputs": [],
   "source": [
    "def preference_creation(family_size: int):\n",
    "    if family_size == 1:\n",
    "        preferences = [2,3]\n",
    "    elif family_size == 2:\n",
    "        preferences = [1,3,4]\n",
    "    elif family_size == 3:\n",
    "        preferences = [1,2,4]\n",
    "    elif family_size == 4:\n",
    "        preferences = [2,3,5]\n",
    "    elif family_size == 5:\n",
    "        preferences = [4,6]\n",
    "    else:\n",
    "        preferences = [5]\n",
    "    \n",
    "    output = [min(family_size, 6)] + random.sample(preferences, len(preferences))\n",
    "    return output\n",
    "\n",
    "def housing_vacancy(stock):\n",
    "    \n",
    "    # Probability weights for each housing type (reverse proportion to the key size)\n",
    "    weights = [1 / key for key in stock]\n",
    "\n",
    "    \n",
    "    # Distribute 80 units (~10%) randomly across types with weighted choice\n",
    "    units_to_add = 80 # int(vacancy_rate * 817.0)\n",
    "    \n",
    "    while units_to_add > 0:\n",
    "        random_type = random.choices(list(stock.keys()), weights=weights)[0]\n",
    "        add_count = random.randint(1, units_to_add)  # Random count to add\n",
    "\n",
    "        # Increment the randomly chosen type by the add_count\n",
    "        stock[random_type] += add_count\n",
    "\n",
    "        units_to_add -= add_count  # Reduce the remaining units to add\n",
    "\n",
    "    return stock\n"
   ]
  },
  {
   "cell_type": "code",
   "execution_count": 4,
   "metadata": {},
   "outputs": [
    {
     "name": "stdout",
     "output_type": "stream",
     "text": [
      "Total eligible applicants: 3473\n"
     ]
    }
   ],
   "source": [
    "# import file\n",
    "df = pd.read_csv(\"Eligible_Applicants.csv\")\n",
    "\n",
    "# https://www.habc.org/habc-information/about-us/news/habc-reopens-public-housing-waiting-list/\n",
    "\n",
    "# filtering eligible applicants \n",
    "df = df[df['familysize'] != 0] # removing applicants with family size = 0\n",
    "df = df[df['income'] != 0] # removing applicants with income = 0\n",
    "df = df[df['race'] != 0]\n",
    "df = df.drop(df.columns[0:1], axis = 1)\n",
    "df = df[~(df['income'] > 14160 + (7710 * df['familysize']))]\n",
    "# df = df.loc[df.index.repeat(20)].reset_index(drop=True)\n",
    "\n",
    "\n",
    "preferences = []\n",
    "for index, row in df.iterrows():\n",
    "    preferences.append(preference_creation(int(row['familysize'])))\n",
    "\n",
    "df['preferences'] = preferences \n",
    "\n",
    "# saving original\n",
    "safe = df\n",
    "print(f\"Total eligible applicants: {len(df)}\")"
   ]
  },
  {
   "cell_type": "code",
   "execution_count": 5,
   "metadata": {},
   "outputs": [
    {
     "name": "stdout",
     "output_type": "stream",
     "text": [
      "Total Housing Units Available: 1024\n"
     ]
    }
   ],
   "source": [
    "# housing unit stock\n",
    "housing_units = {\n",
    "    1: 9820,\n",
    "    2: 4349,\n",
    "    3: 3107,\n",
    "    4: 1788,\n",
    "    5: 880,\n",
    "    6: 569\n",
    "}\n",
    "\n",
    "# set initial vacancy rate\n",
    "\n",
    "for key in housing_units.keys():\n",
    "    housing_units[key] = int(housing_units[key] * vacancy_rate)\n",
    "print(f\"Total Housing Units Available: {sum(housing_units.values())}\")"
   ]
  },
  {
   "cell_type": "code",
   "execution_count": 6,
   "metadata": {},
   "outputs": [],
   "source": [
    "priorities = ['income', 'numchildren', 'numelderly', 'veteran', 'disability']\n",
    "\n",
    "# For those on the waitlist, find matching, vacant units\n",
    "\n",
    "for priority in priorities:\n",
    "    # reset dataframe to infinite wait times and ranking = 0\n",
    "    df = safe\n",
    "\n",
    "    # sort dataframe by priority system and save to waitlist\n",
    "    if priority == 'income':\n",
    "        waitlist = df.sort_values(by=priority, ascending=True)\n",
    "    else:\n",
    "        waitlist = df.sort_values(by=priority, ascending=False)\n",
    "\n",
    "    # maximum 12*5 periods (once a month for 5 years), end when waitlist is empty\n",
    "    period = 12*5\n",
    "    for _ in range(int(period)):\n",
    "\n",
    "        # break when waitlist is empty\n",
    "        if waitlist.shape[0] == 0:\n",
    "            break\n",
    "        # add x number of housing units per cycle\n",
    "        housing_units = housing_vacancy(housing_units)\n",
    "\n",
    "        # for each applicant in the wait list\n",
    "        for _, applicant in waitlist.iterrows():\n",
    "\n",
    "            # identify the serial number\n",
    "            serial_no = applicant['serialno']\n",
    "\n",
    "            # for each choice in the preferences list\n",
    "            for rank in applicant['preferences']:\n",
    "\n",
    "                # if that housing size/type is available\n",
    "                if housing_units[rank] > 0:\n",
    "\n",
    "                    # set that housing choice to be their \"ranking\" (the preference they are matched with)\n",
    "                    df.loc[df['serialno'] == serial_no, 'ranking'] = applicant['preferences'].index(rank) + 1\n",
    "\n",
    "                    # reduce that available housing type by 1\n",
    "                    housing_units[rank] -= 1\n",
    "\n",
    "                    # remove them from the waitlist\n",
    "                    waitlist = waitlist[waitlist['serialno'] != serial_no]\n",
    "                    break\n",
    "        \n",
    "        # for all umatched, add 1 to waittime\n",
    "        df.loc[df['ranking'] == 0, 'waittime'] += 1\n",
    "    \n",
    "    # save df\n",
    "    filename = f'results/dfs/trial_3/housing_allocation_{priority}.csv'\n",
    "    df.to_csv(filename, index = False)\n",
    "\n",
    "    # Group by 'Race' and calculate the percentage of top choice within each group\n",
    "    result = df.groupby('race').agg(\n",
    "        Percentage=('ranking', lambda x: (x == 1).sum() / len(x) * 100),\n",
    "        AverageWaitTime=('waittime', 'mean')\n",
    "    ).reset_index()\n",
    "\n",
    "    # Round 'Percentage' to 2 decimal points and format as percentage\n",
    "    result['Percentage'] = result['Percentage'].map('{:.2f}%'.format)\n",
    "\n",
    "    result.columns = ['Race', 'Percentage of Top Choice', 'Average Wait Time']\n",
    "\n",
    "    result.to_csv(f'results/stats/trial_3/housing_statistics_{priority}.csv', index=False)\n",
    "\n"
   ]
  },
  {
   "cell_type": "code",
   "execution_count": null,
   "metadata": {},
   "outputs": [],
   "source": []
  }
 ],
 "metadata": {
  "kernelspec": {
   "display_name": "Python 3 (ipykernel)",
   "language": "python",
   "name": "python3"
  },
  "language_info": {
   "codemirror_mode": {
    "name": "ipython",
    "version": 3
   },
   "file_extension": ".py",
   "mimetype": "text/x-python",
   "name": "python",
   "nbconvert_exporter": "python",
   "pygments_lexer": "ipython3",
   "version": "3.11.5"
  }
 },
 "nbformat": 4,
 "nbformat_minor": 2
}
