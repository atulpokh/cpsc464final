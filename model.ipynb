{
 "cells": [
  {
   "cell_type": "code",
   "execution_count": 28,
   "metadata": {},
   "outputs": [],
   "source": [
    "import pandas as pd\n",
    "import numpy as np\n",
    "import random"
   ]
  },
  {
   "cell_type": "code",
   "execution_count": 31,
   "metadata": {},
   "outputs": [
    {
     "name": "stdout",
     "output_type": "stream",
     "text": [
      "Index(['Unnamed: 0', 'serialno', 'familysize', 'income', 'race', 'ethnicity',\n",
      "       'numchildren', 'numelderly', 'veteran', 'disability', 'waittime',\n",
      "       'topchoice'],\n",
      "      dtype='object')\n"
     ]
    }
   ],
   "source": [
    "# inputs\n",
    "applicant_arrival = 0.03\n",
    "applicant_departure = 0.03\n",
    "vacancy_rate = \n"
   ]
  },
  {
   "cell_type": "code",
   "execution_count": 74,
   "metadata": {},
   "outputs": [],
   "source": [
    "def preference_creation(family_size: int):\n",
    "    if family_size == 1:\n",
    "        preferences = [2,3]\n",
    "    elif family_size == 2:\n",
    "        preferences = [1,3,4]\n",
    "    elif family_size == 3:\n",
    "        preferences = [1,2,4]\n",
    "    elif family_size == 4:\n",
    "        preferences = [2,3,5]\n",
    "    elif family_size == 5:\n",
    "        preferences = [4,6]\n",
    "    else:\n",
    "        preferences = [5]\n",
    "    \n",
    "    output = [family_size] + random.sample(preferences, len(preferences))\n",
    "    return output"
   ]
  },
  {
   "cell_type": "code",
   "execution_count": 75,
   "metadata": {},
   "outputs": [],
   "source": [
    "# import file\n",
    "df = pd.read_csv(\"Eligible_Applicants.csv\")\n",
    "\n",
    "# saving backup\n",
    "safe = df\n",
    "\n",
    "# filtering eligible applicants \n",
    "df = df[df['familysize'] != 0] # removing applicants with family size = 0\n",
    "df = df[df['income'] != 0] # removing applicants with income = 0\n",
    "df = df.drop(df.columns[0:2], axis = 1)\n",
    "df = df.loc[df.index.repeat(30)].reset_index(drop=True)\n",
    "\n",
    "preferences = []\n",
    "for index, row in df.iterrows():\n",
    "    preferences.append(preference_creation(int(row['familysize'])))\n",
    "\n",
    "df['preferences'] = preferences\n"
   ]
  },
  {
   "cell_type": "code",
   "execution_count": 87,
   "metadata": {},
   "outputs": [
    {
     "name": "stdout",
     "output_type": "stream",
     "text": [
      "20513\n"
     ]
    }
   ],
   "source": [
    "class Unit:\n",
    "    def __init__(self, capacity, occupied):\n",
    "        self.capacity = capacity\n",
    "        self.occupied = occupied\n",
    "\n",
    "# housing unit stock\n",
    "housing_units_stock = {\n",
    "    1: 9820,\n",
    "    2: 4349,\n",
    "    3: 3107,\n",
    "    4: 1788,\n",
    "    5: 880,\n",
    "    6: 569\n",
    "}\n",
    "\n",
    "housing_units = [Unit(capacity, 0) for capacity, count in housing_units_stock.items() for _ in range(count)]"
   ]
  },
  {
   "cell_type": "code",
   "execution_count": 89,
   "metadata": {},
   "outputs": [],
   "source": [
    "waitlist = df\n",
    "\n",
    "periods = 1\n",
    "\n",
    "for _ in range(periods):\n",
    "    if waitlist.shape[0] == 0:\n",
    "        break\n",
    "    \n",
    "    for index, applicant in waitlist.iterrows():\n",
    "\n",
    "        while applicant['ranking'] == 0:\n",
    "            for rank in applicant['preferences']:\n",
    "                for unit in housing_units:\n",
    "                    if (unit.capacity == rank) and (unit.occupied == 0):\n",
    "                        unit.occupied = 1\n",
    "                        applicant['ranking'] = applicant['preferences'].index(rank) + 1\n",
    "                        break\n",
    "            break\n",
    "    \n",
    "        if applicant['ranking'] > 0:\n",
    "            waitlist.drop(index)\n",
    "                "
   ]
  },
  {
   "cell_type": "code",
   "execution_count": 79,
   "metadata": {},
   "outputs": [
    {
     "name": "stdout",
     "output_type": "stream",
     "text": [
      "(104220, 11)\n",
      "(104220, 11)\n"
     ]
    }
   ],
   "source": [
    "print(df.shape)\n",
    "print(waitlist.shape)"
   ]
  }
 ],
 "metadata": {
  "kernelspec": {
   "display_name": "Python 3",
   "language": "python",
   "name": "python3"
  },
  "language_info": {
   "codemirror_mode": {
    "name": "ipython",
    "version": 3
   },
   "file_extension": ".py",
   "mimetype": "text/x-python",
   "name": "python",
   "nbconvert_exporter": "python",
   "pygments_lexer": "ipython3",
   "version": "3.10.9"
  }
 },
 "nbformat": 4,
 "nbformat_minor": 2
}
